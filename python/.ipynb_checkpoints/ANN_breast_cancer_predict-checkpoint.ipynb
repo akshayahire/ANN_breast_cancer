{
 "cells": [
  {
   "cell_type": "code",
   "execution_count": 142,
   "metadata": {},
   "outputs": [],
   "source": [
    "import numpy as np\n",
    "import pandas as pd\n",
    "import tensorflow as tf"
   ]
  },
  {
   "cell_type": "code",
   "execution_count": 143,
   "metadata": {},
   "outputs": [],
   "source": [
    "# read data set file\n",
    "dataset = pd.read_csv('./dataset/data.csv')"
   ]
  },
  {
   "cell_type": "code",
   "execution_count": null,
   "metadata": {},
   "outputs": [],
   "source": []
  },
  {
   "cell_type": "code",
   "execution_count": 145,
   "metadata": {},
   "outputs": [],
   "source": [
    "# Y = dataset[['diagnosis']]\n",
    "X = dataset.iloc[:, 2:-1]\n",
    "Y = dataset.iloc[:, 1]\n"
   ]
  },
  {
   "cell_type": "code",
   "execution_count": 146,
   "metadata": {},
   "outputs": [],
   "source": [
    "from sklearn.model_selection import train_test_split\n",
    "\n",
    "X_train, X_test, y_train, y_test = train_test_split(X, Y, test_size = 0.2, random_state = 0)"
   ]
  },
  {
   "cell_type": "code",
   "execution_count": null,
   "metadata": {},
   "outputs": [],
   "source": []
  },
  {
   "cell_type": "code",
   "execution_count": 164,
   "metadata": {},
   "outputs": [],
   "source": [
    "# encode output\n",
    "y_train = y_train.replace(to_replace=['M'], value = 1)\n",
    "y_train = y_train.replace(to_replace=['B'], value = 0)\n",
    "\n",
    "y_test = y_test.replace(to_replace=['M'], value = 1)\n",
    "y_test = y_test.replace(to_replace=['B'], value = 0)"
   ]
  },
  {
   "cell_type": "code",
   "execution_count": 165,
   "metadata": {},
   "outputs": [],
   "source": [
    "from sklearn.preprocessing import MinMaxScaler"
   ]
  },
  {
   "cell_type": "code",
   "execution_count": 166,
   "metadata": {},
   "outputs": [],
   "source": [
    "scaler = MinMaxScaler(feature_range=(0, 1))\n",
    "scaled_X = scaler.fit_transform(X_train)"
   ]
  },
  {
   "cell_type": "code",
   "execution_count": 167,
   "metadata": {},
   "outputs": [],
   "source": [
    "# Build ANN model"
   ]
  },
  {
   "cell_type": "code",
   "execution_count": 168,
   "metadata": {},
   "outputs": [],
   "source": [
    "from tensorflow.keras.models import Sequential\n",
    "from tensorflow.keras.layers import Dense"
   ]
  },
  {
   "cell_type": "code",
   "execution_count": 209,
   "metadata": {},
   "outputs": [],
   "source": [
    "classifier = Sequential();\n",
    "classifier.add(Dense(units = 20, input_dim = 30, kernel_initializer = 'uniform', activation = 'relu'))\n",
    "classifier.add(Dense(units = 8, kernel_initializer = 'uniform', activation = 'relu'))\n",
    "classifier.add(Dense(units = 8, kernel_initializer = 'uniform', activation = 'relu'))\n",
    "classifier.add(Dense(units = 1, kernel_initializer = 'uniform', activation = 'sigmoid'))\n",
    "classifier.compile(loss = 'mean_squared_error', optimizer = 'sgd', metrics = ['accuracy'])\n",
    "#classifier.fit(X_train, Y_train, batch_size = 10, epochs = 100)"
   ]
  },
  {
   "cell_type": "code",
   "execution_count": 210,
   "metadata": {},
   "outputs": [
    {
     "name": "stdout",
     "output_type": "stream",
     "text": [
      "Epoch 1/100\n",
      "455/455 [==============================] - 0s 790us/sample - loss: 0.2490 - acc: 0.6440\n",
      "Epoch 2/100\n",
      "455/455 [==============================] - 0s 183us/sample - loss: 0.2469 - acc: 0.6374\n",
      "Epoch 3/100\n",
      "455/455 [==============================] - 0s 175us/sample - loss: 0.2451 - acc: 0.6374\n",
      "Epoch 4/100\n",
      "455/455 [==============================] - 0s 180us/sample - loss: 0.2433 - acc: 0.6374\n",
      "Epoch 5/100\n",
      "455/455 [==============================] - 0s 174us/sample - loss: 0.2416 - acc: 0.6374\n",
      "Epoch 6/100\n",
      "455/455 [==============================] - 0s 179us/sample - loss: 0.2401 - acc: 0.6374\n",
      "Epoch 7/100\n",
      "455/455 [==============================] - 0s 182us/sample - loss: 0.2384 - acc: 0.6374\n",
      "Epoch 8/100\n",
      "455/455 [==============================] - 0s 178us/sample - loss: 0.2361 - acc: 0.6374\n",
      "Epoch 9/100\n",
      "455/455 [==============================] - 0s 188us/sample - loss: 0.2315 - acc: 0.6835\n",
      "Epoch 10/100\n",
      "455/455 [==============================] - 0s 181us/sample - loss: 0.2226 - acc: 0.8769\n",
      "Epoch 11/100\n",
      "455/455 [==============================] - 0s 184us/sample - loss: 0.2147 - acc: 0.8396\n",
      "Epoch 12/100\n",
      "455/455 [==============================] - 0s 200us/sample - loss: 0.2056 - acc: 0.8593\n",
      "Epoch 13/100\n",
      "455/455 [==============================] - 0s 189us/sample - loss: 0.1944 - acc: 0.8725\n",
      "Epoch 14/100\n",
      "455/455 [==============================] - 0s 218us/sample - loss: 0.1808 - acc: 0.8418\n",
      "Epoch 15/100\n",
      "455/455 [==============================] - 0s 205us/sample - loss: 0.1636 - acc: 0.8440\n",
      "Epoch 16/100\n",
      "455/455 [==============================] - 0s 188us/sample - loss: 0.1560 - acc: 0.8462\n",
      "Epoch 17/100\n",
      "455/455 [==============================] - 0s 180us/sample - loss: 0.1585 - acc: 0.8088\n",
      "Epoch 18/100\n",
      "455/455 [==============================] - 0s 205us/sample - loss: 0.1407 - acc: 0.8505\n",
      "Epoch 19/100\n",
      "455/455 [==============================] - 0s 214us/sample - loss: 0.1392 - acc: 0.8352\n",
      "Epoch 20/100\n",
      "455/455 [==============================] - 0s 211us/sample - loss: 0.1339 - acc: 0.8374\n",
      "Epoch 21/100\n",
      "455/455 [==============================] - 0s 174us/sample - loss: 0.1366 - acc: 0.8242\n",
      "Epoch 22/100\n",
      "455/455 [==============================] - 0s 182us/sample - loss: 0.1200 - acc: 0.8527\n",
      "Epoch 23/100\n",
      "455/455 [==============================] - 0s 222us/sample - loss: 0.1060 - acc: 0.8659\n",
      "Epoch 24/100\n",
      "455/455 [==============================] - 0s 207us/sample - loss: 0.1092 - acc: 0.8505\n",
      "Epoch 25/100\n",
      "455/455 [==============================] - 0s 191us/sample - loss: 0.1118 - acc: 0.8637\n",
      "Epoch 26/100\n",
      "455/455 [==============================] - 0s 200us/sample - loss: 0.1028 - acc: 0.8659\n",
      "Epoch 27/100\n",
      "455/455 [==============================] - 0s 212us/sample - loss: 0.0945 - acc: 0.8725\n",
      "Epoch 28/100\n",
      "455/455 [==============================] - 0s 217us/sample - loss: 0.0974 - acc: 0.8725\n",
      "Epoch 29/100\n",
      "455/455 [==============================] - 0s 192us/sample - loss: 0.1231 - acc: 0.8418\n",
      "Epoch 30/100\n",
      "455/455 [==============================] - 0s 189us/sample - loss: 0.1061 - acc: 0.8505\n",
      "Epoch 31/100\n",
      "455/455 [==============================] - 0s 188us/sample - loss: 0.0921 - acc: 0.8835\n",
      "Epoch 32/100\n",
      "455/455 [==============================] - 0s 206us/sample - loss: 0.0860 - acc: 0.8813\n",
      "Epoch 33/100\n",
      "455/455 [==============================] - 0s 214us/sample - loss: 0.0917 - acc: 0.8659\n",
      "Epoch 34/100\n",
      "455/455 [==============================] - 0s 214us/sample - loss: 0.0824 - acc: 0.8945\n",
      "Epoch 35/100\n",
      "455/455 [==============================] - 0s 192us/sample - loss: 0.0816 - acc: 0.9011\n",
      "Epoch 36/100\n",
      "455/455 [==============================] - 0s 195us/sample - loss: 0.0848 - acc: 0.8879\n",
      "Epoch 37/100\n",
      "455/455 [==============================] - 0s 218us/sample - loss: 0.0860 - acc: 0.8879\n",
      "Epoch 38/100\n",
      "455/455 [==============================] - 0s 216us/sample - loss: 0.0780 - acc: 0.8945\n",
      "Epoch 39/100\n",
      "455/455 [==============================] - 0s 195us/sample - loss: 0.0849 - acc: 0.8879\n",
      "Epoch 40/100\n",
      "455/455 [==============================] - 0s 194us/sample - loss: 0.0893 - acc: 0.8945\n",
      "Epoch 41/100\n",
      "455/455 [==============================] - 0s 219us/sample - loss: 0.0760 - acc: 0.8945\n",
      "Epoch 42/100\n",
      "455/455 [==============================] - 0s 217us/sample - loss: 0.0782 - acc: 0.8901\n",
      "Epoch 43/100\n",
      "455/455 [==============================] - 0s 185us/sample - loss: 0.0767 - acc: 0.8989\n",
      "Epoch 44/100\n",
      "455/455 [==============================] - 0s 180us/sample - loss: 0.0740 - acc: 0.9143\n",
      "Epoch 45/100\n",
      "455/455 [==============================] - 0s 218us/sample - loss: 0.0776 - acc: 0.8989\n",
      "Epoch 46/100\n",
      "455/455 [==============================] - 0s 215us/sample - loss: 0.0798 - acc: 0.8879\n",
      "Epoch 47/100\n",
      "455/455 [==============================] - 0s 203us/sample - loss: 0.0849 - acc: 0.8747\n",
      "Epoch 48/100\n",
      "455/455 [==============================] - 0s 217us/sample - loss: 0.0749 - acc: 0.9011\n",
      "Epoch 49/100\n",
      "455/455 [==============================] - 0s 246us/sample - loss: 0.0762 - acc: 0.8989\n",
      "Epoch 50/100\n",
      "455/455 [==============================] - 0s 192us/sample - loss: 0.0763 - acc: 0.9011\n",
      "Epoch 51/100\n",
      "455/455 [==============================] - 0s 192us/sample - loss: 0.0785 - acc: 0.8945\n",
      "Epoch 52/100\n",
      "455/455 [==============================] - 0s 223us/sample - loss: 0.0832 - acc: 0.8835\n",
      "Epoch 53/100\n",
      "455/455 [==============================] - 0s 206us/sample - loss: 0.0739 - acc: 0.9011\n",
      "Epoch 54/100\n",
      "455/455 [==============================] - 0s 190us/sample - loss: 0.0758 - acc: 0.8945\n",
      "Epoch 55/100\n",
      "455/455 [==============================] - 0s 189us/sample - loss: 0.0744 - acc: 0.9055\n",
      "Epoch 56/100\n",
      "455/455 [==============================] - 0s 192us/sample - loss: 0.0730 - acc: 0.9055\n",
      "Epoch 57/100\n",
      "455/455 [==============================] - 0s 181us/sample - loss: 0.0786 - acc: 0.8967\n",
      "Epoch 58/100\n",
      "455/455 [==============================] - 0s 200us/sample - loss: 0.0736 - acc: 0.8967\n",
      "Epoch 59/100\n",
      "455/455 [==============================] - 0s 185us/sample - loss: 0.0695 - acc: 0.9055\n",
      "Epoch 60/100\n",
      "455/455 [==============================] - 0s 226us/sample - loss: 0.0760 - acc: 0.8989\n",
      "Epoch 61/100\n",
      "455/455 [==============================] - 0s 196us/sample - loss: 0.0686 - acc: 0.9099\n",
      "Epoch 62/100\n",
      "455/455 [==============================] - 0s 192us/sample - loss: 0.0804 - acc: 0.9011\n",
      "Epoch 63/100\n",
      "455/455 [==============================] - 0s 215us/sample - loss: 0.0774 - acc: 0.9077\n",
      "Epoch 64/100\n",
      "455/455 [==============================] - 0s 208us/sample - loss: 0.0701 - acc: 0.9121\n",
      "Epoch 65/100\n",
      "455/455 [==============================] - 0s 216us/sample - loss: 0.0955 - acc: 0.8703\n",
      "Epoch 66/100\n",
      "455/455 [==============================] - 0s 213us/sample - loss: 0.0733 - acc: 0.9165\n",
      "Epoch 67/100\n",
      "455/455 [==============================] - 0s 200us/sample - loss: 0.0762 - acc: 0.9055\n",
      "Epoch 68/100\n",
      "455/455 [==============================] - 0s 204us/sample - loss: 0.0696 - acc: 0.9121\n",
      "Epoch 69/100\n",
      "455/455 [==============================] - 0s 215us/sample - loss: 0.0719 - acc: 0.9077\n",
      "Epoch 70/100\n",
      "455/455 [==============================] - 0s 206us/sample - loss: 0.0729 - acc: 0.9077\n",
      "Epoch 71/100\n",
      "455/455 [==============================] - 0s 201us/sample - loss: 0.0729 - acc: 0.9099\n",
      "Epoch 72/100\n",
      "455/455 [==============================] - 0s 189us/sample - loss: 0.0693 - acc: 0.9143\n",
      "Epoch 73/100\n",
      "455/455 [==============================] - 0s 212us/sample - loss: 0.0707 - acc: 0.9143\n",
      "Epoch 74/100\n",
      "455/455 [==============================] - 0s 225us/sample - loss: 0.0755 - acc: 0.8989\n",
      "Epoch 75/100\n",
      "455/455 [==============================] - 0s 200us/sample - loss: 0.0764 - acc: 0.8945\n",
      "Epoch 76/100\n",
      "455/455 [==============================] - 0s 193us/sample - loss: 0.0667 - acc: 0.9121\n",
      "Epoch 77/100\n",
      "455/455 [==============================] - 0s 207us/sample - loss: 0.0699 - acc: 0.9077\n",
      "Epoch 78/100\n",
      "455/455 [==============================] - 0s 222us/sample - loss: 0.0687 - acc: 0.9187\n",
      "Epoch 79/100\n",
      "455/455 [==============================] - 0s 209us/sample - loss: 0.0709 - acc: 0.9099\n",
      "Epoch 80/100\n",
      "455/455 [==============================] - 0s 201us/sample - loss: 0.0651 - acc: 0.9143\n",
      "Epoch 81/100\n",
      "455/455 [==============================] - 0s 200us/sample - loss: 0.0684 - acc: 0.9099\n",
      "Epoch 82/100\n"
     ]
    },
    {
     "name": "stdout",
     "output_type": "stream",
     "text": [
      "455/455 [==============================] - 0s 223us/sample - loss: 0.0697 - acc: 0.9165\n",
      "Epoch 83/100\n",
      "455/455 [==============================] - 0s 197us/sample - loss: 0.0686 - acc: 0.9033\n",
      "Epoch 84/100\n",
      "455/455 [==============================] - 0s 178us/sample - loss: 0.0712 - acc: 0.9209\n",
      "Epoch 85/100\n",
      "455/455 [==============================] - 0s 206us/sample - loss: 0.0669 - acc: 0.9099\n",
      "Epoch 86/100\n",
      "455/455 [==============================] - 0s 201us/sample - loss: 0.0676 - acc: 0.9165\n",
      "Epoch 87/100\n",
      "455/455 [==============================] - 0s 204us/sample - loss: 0.0686 - acc: 0.9055\n",
      "Epoch 88/100\n",
      "455/455 [==============================] - 0s 179us/sample - loss: 0.0706 - acc: 0.9099\n",
      "Epoch 89/100\n",
      "455/455 [==============================] - 0s 172us/sample - loss: 0.0652 - acc: 0.9055\n",
      "Epoch 90/100\n",
      "455/455 [==============================] - 0s 200us/sample - loss: 0.0704 - acc: 0.9187\n",
      "Epoch 91/100\n",
      "455/455 [==============================] - 0s 202us/sample - loss: 0.0694 - acc: 0.9033\n",
      "Epoch 92/100\n",
      "455/455 [==============================] - 0s 199us/sample - loss: 0.0729 - acc: 0.9011\n",
      "Epoch 93/100\n",
      "455/455 [==============================] - 0s 192us/sample - loss: 0.0671 - acc: 0.9165\n",
      "Epoch 94/100\n",
      "455/455 [==============================] - 0s 177us/sample - loss: 0.0676 - acc: 0.9231\n",
      "Epoch 95/100\n",
      "455/455 [==============================] - 0s 185us/sample - loss: 0.0727 - acc: 0.8923\n",
      "Epoch 96/100\n",
      "455/455 [==============================] - 0s 206us/sample - loss: 0.0672 - acc: 0.9187\n",
      "Epoch 97/100\n",
      "455/455 [==============================] - 0s 202us/sample - loss: 0.0655 - acc: 0.9143\n",
      "Epoch 98/100\n",
      "455/455 [==============================] - 0s 194us/sample - loss: 0.0650 - acc: 0.9187\n",
      "Epoch 99/100\n",
      "455/455 [==============================] - 0s 177us/sample - loss: 0.0701 - acc: 0.9055\n",
      "Epoch 100/100\n",
      "455/455 [==============================] - 0s 222us/sample - loss: 0.0584 - acc: 0.9209\n"
     ]
    },
    {
     "data": {
      "text/plain": [
       "<tensorflow.python.keras.callbacks.History at 0x182248c4d68>"
      ]
     },
     "execution_count": 210,
     "metadata": {},
     "output_type": "execute_result"
    }
   ],
   "source": [
    "classifier.fit(X_train, y_train, epochs= 100, batch_size= 10)"
   ]
  },
  {
   "cell_type": "code",
   "execution_count": null,
   "metadata": {},
   "outputs": [],
   "source": []
  }
 ],
 "metadata": {
  "kernelspec": {
   "display_name": "Python 3",
   "language": "python",
   "name": "python3"
  },
  "language_info": {
   "codemirror_mode": {
    "name": "ipython",
    "version": 3
   },
   "file_extension": ".py",
   "mimetype": "text/x-python",
   "name": "python",
   "nbconvert_exporter": "python",
   "pygments_lexer": "ipython3",
   "version": "3.7.3"
  }
 },
 "nbformat": 4,
 "nbformat_minor": 2
}
